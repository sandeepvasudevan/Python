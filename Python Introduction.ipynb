{
 "cells": [
  {
   "cell_type": "markdown",
   "id": "90c2269f",
   "metadata": {},
   "source": [
    "# Python Operators"
   ]
  },
  {
   "cell_type": "code",
   "execution_count": null,
   "id": "13fc4bc4",
   "metadata": {},
   "outputs": [],
   "source": [
    "print(2+5)  #Addition\n",
    "print(11-4) #Subtraction\n",
    "print(21/3) #Division\n",
    "print(7**3) #Exponential\n",
    "print(16%9) #Modulus\n",
    "print(7//2) #Quotient"
   ]
  },
  {
   "cell_type": "markdown",
   "id": "eff4100b",
   "metadata": {},
   "source": [
    "# Types"
   ]
  },
  {
   "cell_type": "code",
   "execution_count": null,
   "id": "b526a321",
   "metadata": {},
   "outputs": [],
   "source": [
    "print(type(2+3))\n",
    "print(type(10-4))\n",
    "print(type(343/7))\n",
    "print(type(5*5))\n",
    "print(type(5//2))\n",
    "print(type(4%3))\n",
    "print(type('Sandeep'))\n",
    "print(type('Sandeep'+'Vasudevan'))\n",
    "print(type([1,2,3,4,5,'Numbers']))\n",
    "print(type((1,'Sandeep','Vasudevan',35)))\n",
    "print(type({'name':'Sandeep','age':35,'desig':'Manager'}))"
   ]
  },
  {
   "cell_type": "code",
   "execution_count": null,
   "id": "59e41af1",
   "metadata": {},
   "outputs": [],
   "source": []
  }
 ],
 "metadata": {
  "kernelspec": {
   "display_name": "Python 3 (ipykernel)",
   "language": "python",
   "name": "python3"
  },
  "language_info": {
   "codemirror_mode": {
    "name": "ipython",
    "version": 3
   },
   "file_extension": ".py",
   "mimetype": "text/x-python",
   "name": "python",
   "nbconvert_exporter": "python",
   "pygments_lexer": "ipython3",
   "version": "3.11.5"
  }
 },
 "nbformat": 4,
 "nbformat_minor": 5
}
